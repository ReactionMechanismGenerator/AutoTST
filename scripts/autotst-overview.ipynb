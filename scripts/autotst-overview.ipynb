{
 "cells": [
  {
   "cell_type": "markdown",
   "metadata": {},
   "source": [
    "# This notebook serves as an example of how to create AutoTST objects and how to create 3D geometries"
   ]
  },
  {
   "cell_type": "code",
   "execution_count": 1,
   "metadata": {},
   "outputs": [
    {
     "name": "stderr",
     "output_type": "stream",
     "text": [
      "RDKit WARNING: [15:23:34] Enabling RDKit 2019.09.2 jupyter extensions\n"
     ]
    }
   ],
   "source": [
    "#General imports\n",
    "import os, sys\n",
    "import logging\n",
    "from copy import deepcopy\n",
    "import numpy as np\n",
    "import pandas as pd\n",
    "from multiprocessing import Process\n",
    "\n",
    "#AutoTST imports\n",
    "from autotst.species import Species, Conformer\n",
    "from autotst.reaction import Reaction, TS \n",
    "from autotst.calculator.gaussian import Gaussian\n",
    "from autotst.calculator.statmech import StatMech\n",
    "from autotst.job.job import Job\n"
   ]
  },
  {
   "cell_type": "markdown",
   "metadata": {},
   "source": [
    "# Creating `Species` and `Conformer` objects\n",
    "\n",
    "Each stable reactant and product species are generated as `Species` objects. These objects can contain many `Conformer` objects that can represent multiple resonance structures. \n",
    "`Species` and `Conformer` objects can be initialized as follows:\n",
    "- `Species([\"SMILES_STRING\"])`\n",
    "- `Conformer(\"SMILES_STRING\")`\n",
    "\n",
    "For a `Species` object, it can take lists of SMILES strings because there may be multiple resonance structures for a given SMILES structure. However, `Conformer` objects represent only a single isomer.\n",
    "`Species` objects can contain multiple `Conformer` and can be "
   ]
  },
  {
   "cell_type": "code",
   "execution_count": 2,
   "metadata": {},
   "outputs": [
    {
     "name": "stdout",
     "output_type": "stream",
     "text": [
      "For <Species \"[CH2]C=C(C)C / C=C[C](C)C\"> there are 2 resonance structures\n",
      "These structures are:\n",
      "\t- [CH2]C=C(C)C\n",
      "\t- C=C[C](C)C\n"
     ]
    }
   ],
   "source": [
    "species = Species([\"[CH2]C=C(C)C\"])\n",
    "print(\"For {} there are {} resonance structures\".format(species, len(species.conformers)))\n",
    "print(\"These structures are:\")\n",
    "for smiles in species.conformers.keys():\n",
    "    print (\"\\t- {}\".format(smiles))"
   ]
  },
  {
   "cell_type": "code",
   "execution_count": 3,
   "metadata": {},
   "outputs": [
    {
     "data": {
      "text/plain": [
       "{'[CH2]C=C(C)C': [<Conformer \"[CH2]C=C(C)C\">],\n",
       " 'C=C[C](C)C': [<Conformer \"C=C[C](C)C\">]}"
      ]
     },
     "execution_count": 3,
     "metadata": {},
     "output_type": "execute_result"
    }
   ],
   "source": [
    "species.conformers"
   ]
  },
  {
   "cell_type": "markdown",
   "metadata": {},
   "source": [
    "When looking at a specific `Conformer` object, you need to know that a `Species` contants a dictionary in `Species.conformers`. The keys are the possible SMILES strings associated with the species and the values are lists of `Conformer` objects for that specific SMILES. When initialized, these lists will be length 1 but will be extended if you generate more conformers. Below is how to view a single `Conformer` object "
   ]
  },
  {
   "cell_type": "code",
   "execution_count": 4,
   "metadata": {},
   "outputs": [
    {
     "data": {
      "application/3dmoljs_load.v0": "<div id=\"3dmolviewer_1582835016572055\"  style=\"position: relative; width: 600px; height: 600px\">\n        <p id=\"3dmolwarning_1582835016572055\" style=\"background-color:#ffcccc;color:black\">You appear to be running in JupyterLab (or JavaScript failed to load for some other reason).  You need to install the 3dmol extension: <br>\n        <tt>jupyter labextension install jupyterlab_3dmol</tt></p>\n        </div>\n<script>\n\nvar loadScriptAsync = function(uri){\n  return new Promise((resolve, reject) => {\n    var tag = document.createElement('script');\n    tag.src = uri;\n    tag.async = true;\n    tag.onload = () => {\n      resolve();\n    };\n  var firstScriptTag = document.getElementsByTagName('script')[0];\n  firstScriptTag.parentNode.insertBefore(tag, firstScriptTag);\n});\n};\n\nif(typeof $3Dmolpromise === 'undefined') {\n$3Dmolpromise = null;\n  $3Dmolpromise = loadScriptAsync('https://3dmol.csb.pitt.edu/build/3Dmol.js');\n}\n\nvar viewer_1582835016572055 = null;\nvar warn = document.getElementById(\"3dmolwarning_1582835016572055\");\nif(warn) {\n    warn.parentNode.removeChild(warn);\n}\n$3Dmolpromise.then(function() {\nviewer_1582835016572055 = $3Dmol.createViewer($(\"#3dmolviewer_1582835016572055\"),{backgroundColor:\"white\"});\n\tviewer_1582835016572055.addModel(\"\\n     RDKit          3D\\n\\n 14 13  0  0  0  0  0  0  0  0999 V2000\\n   -1.2626   -1.1330   -0.0409 C   0  0  0  0  0  0  0  0  0  0  0  0\\n   -0.7496    1.2587    0.5349 C   0  0  0  0  0  0  0  0  0  0  0  0\\n   -0.2127   -0.1088    0.2555 C   0  0  0  0  0  3  0  0  0  0  0  0\\n    0.9334   -0.1230   -0.6373 C   0  0  0  0  0  0  0  0  0  0  0  0\\n    2.1545   -0.1025   -0.1439 C   0  0  0  0  0  0  0  0  0  0  0  0\\n   -2.0517   -1.0514    0.7072 H   0  0  0  0  0  0  0  0  0  0  0  0\\n   -1.6265   -1.1087   -1.0855 H   0  0  0  0  0  0  0  0  0  0  0  0\\n   -0.7927   -2.1481    0.0893 H   0  0  0  0  0  0  0  0  0  0  0  0\\n   -1.1790    1.7348   -0.3691 H   0  0  0  0  0  0  0  0  0  0  0  0\\n   -1.4589    1.2271    1.3897 H   0  0  0  0  0  0  0  0  0  0  0  0\\n    0.0998    1.8924    0.8638 H   0  0  0  0  0  0  0  0  0  0  0  0\\n    0.7950   -0.1502   -1.7006 H   0  0  0  0  0  0  0  0  0  0  0  0\\n    3.0223   -0.1127   -0.7961 H   0  0  0  0  0  0  0  0  0  0  0  0\\n    2.3288   -0.0747    0.9330 H   0  0  0  0  0  0  0  0  0  0  0  0\\n  1  3  1  0\\n  1  6  1  0\\n  1  7  1  0\\n  1  8  1  0\\n  2  3  1  0\\n  2  9  1  0\\n  2 10  1  0\\n  2 11  1  0\\n  3  4  1  0\\n  4  5  2  0\\n  4 12  1  0\\n  5 13  1  0\\n  5 14  1  0\\nM  RAD  1   3   2\\nM  END\\n\",\"sdf\");\n\tviewer_1582835016572055.setStyle({\"stick\": {}});\n\tviewer_1582835016572055.setBackgroundColor(\"0xeeeeee\");\n\tviewer_1582835016572055.zoomTo();\nviewer_1582835016572055.render();\n});\n</script>",
      "text/html": [
       "<div id=\"3dmolviewer_1582835016572055\"  style=\"position: relative; width: 600px; height: 600px\">\n",
       "        <p id=\"3dmolwarning_1582835016572055\" style=\"background-color:#ffcccc;color:black\">You appear to be running in JupyterLab (or JavaScript failed to load for some other reason).  You need to install the 3dmol extension: <br>\n",
       "        <tt>jupyter labextension install jupyterlab_3dmol</tt></p>\n",
       "        </div>\n",
       "<script>\n",
       "\n",
       "var loadScriptAsync = function(uri){\n",
       "  return new Promise((resolve, reject) => {\n",
       "    var tag = document.createElement('script');\n",
       "    tag.src = uri;\n",
       "    tag.async = true;\n",
       "    tag.onload = () => {\n",
       "      resolve();\n",
       "    };\n",
       "  var firstScriptTag = document.getElementsByTagName('script')[0];\n",
       "  firstScriptTag.parentNode.insertBefore(tag, firstScriptTag);\n",
       "});\n",
       "};\n",
       "\n",
       "if(typeof $3Dmolpromise === 'undefined') {\n",
       "$3Dmolpromise = null;\n",
       "  $3Dmolpromise = loadScriptAsync('https://3dmol.csb.pitt.edu/build/3Dmol.js');\n",
       "}\n",
       "\n",
       "var viewer_1582835016572055 = null;\n",
       "var warn = document.getElementById(\"3dmolwarning_1582835016572055\");\n",
       "if(warn) {\n",
       "    warn.parentNode.removeChild(warn);\n",
       "}\n",
       "$3Dmolpromise.then(function() {\n",
       "viewer_1582835016572055 = $3Dmol.createViewer($(\"#3dmolviewer_1582835016572055\"),{backgroundColor:\"white\"});\n",
       "\tviewer_1582835016572055.addModel(\"\\n     RDKit          3D\\n\\n 14 13  0  0  0  0  0  0  0  0999 V2000\\n   -1.2626   -1.1330   -0.0409 C   0  0  0  0  0  0  0  0  0  0  0  0\\n   -0.7496    1.2587    0.5349 C   0  0  0  0  0  0  0  0  0  0  0  0\\n   -0.2127   -0.1088    0.2555 C   0  0  0  0  0  3  0  0  0  0  0  0\\n    0.9334   -0.1230   -0.6373 C   0  0  0  0  0  0  0  0  0  0  0  0\\n    2.1545   -0.1025   -0.1439 C   0  0  0  0  0  0  0  0  0  0  0  0\\n   -2.0517   -1.0514    0.7072 H   0  0  0  0  0  0  0  0  0  0  0  0\\n   -1.6265   -1.1087   -1.0855 H   0  0  0  0  0  0  0  0  0  0  0  0\\n   -0.7927   -2.1481    0.0893 H   0  0  0  0  0  0  0  0  0  0  0  0\\n   -1.1790    1.7348   -0.3691 H   0  0  0  0  0  0  0  0  0  0  0  0\\n   -1.4589    1.2271    1.3897 H   0  0  0  0  0  0  0  0  0  0  0  0\\n    0.0998    1.8924    0.8638 H   0  0  0  0  0  0  0  0  0  0  0  0\\n    0.7950   -0.1502   -1.7006 H   0  0  0  0  0  0  0  0  0  0  0  0\\n    3.0223   -0.1127   -0.7961 H   0  0  0  0  0  0  0  0  0  0  0  0\\n    2.3288   -0.0747    0.9330 H   0  0  0  0  0  0  0  0  0  0  0  0\\n  1  3  1  0\\n  1  6  1  0\\n  1  7  1  0\\n  1  8  1  0\\n  2  3  1  0\\n  2  9  1  0\\n  2 10  1  0\\n  2 11  1  0\\n  3  4  1  0\\n  4  5  2  0\\n  4 12  1  0\\n  5 13  1  0\\n  5 14  1  0\\nM  RAD  1   3   2\\nM  END\\n\",\"sdf\");\n",
       "\tviewer_1582835016572055.setStyle({\"stick\": {}});\n",
       "\tviewer_1582835016572055.setBackgroundColor(\"0xeeeeee\");\n",
       "\tviewer_1582835016572055.zoomTo();\n",
       "viewer_1582835016572055.render();\n",
       "});\n",
       "</script>"
      ]
     },
     "metadata": {},
     "output_type": "display_data"
    }
   ],
   "source": [
    "conformer = species.conformers[smiles][0]\n",
    "conformer.view()"
   ]
  },
  {
   "cell_type": "markdown",
   "metadata": {},
   "source": [
    "# Creating `Reaction` and `TS` objects\n",
    "For this example we will be looking at a hydrogen abstraction reaction by peroxyl radical of 2-methylbut-2-ene"
   ]
  },
  {
   "cell_type": "markdown",
   "metadata": {},
   "source": [
    "First, you need to initialize the autotst `Reaction` object as done below. This can be done by using either reaction strings that look like `r1+r2_p1+p2` where `r1`, `r2`, `p1`, and `p2` are smiles strings for the molecules involved in the reaction. In addition, not all reaction need to by bimolecular. AutoTST currently supports reactions of the following reaction families:\n",
    "- Hydrogen Abstraction (`H_Abstraction`: `r1+r2_p1+p2`)\n",
    "- Intra hydrogen migration (`intra_H_migration`: `r1_p1`)\n",
    "- R addition to multiple bond (`R_Addition_MultipleBond`: `r1+r2_p1`)\n",
    "\n",
    "You can specify a `reaction_family` in a `Reaction` object, however, it is not needed as AutoTST will attempt to match the reaction provided to one of the three supported reaction families.\n",
    "Alternatively, you can intialize a `Reaction` object using an `RMGReaction` object. This can be done as follows:\n",
    "\n",
    "`rxn = Reaction(rmg_reaction=RMGReaction())`\n",
    "\n",
    "The initialization of the reaction will also create a forward and a reverse transition state geometry. And these can be visualized using `py3dmol`.\n",
    "\n",
    "`Reaction` objects are similar to `Species` objects in that they both contain a dictionary corresponding to their conformers. The `Reaction.ts` is the dictionary of transition states for a reaction just like the `Species.conformers` is the dictionary of conformers for a species. The only difference is the keys for the `Reaction.ts` are simply `\"forward\"` and `\"reverse\"` to denote the `TS` generated in either direction"
   ]
  },
  {
   "cell_type": "code",
   "execution_count": 5,
   "metadata": {},
   "outputs": [],
   "source": [
    "rxn = Reaction(label=\"CC=C(C)C+[O]O_[CH2]C=C(C)C+OO\")"
   ]
  },
  {
   "cell_type": "code",
   "execution_count": 6,
   "metadata": {},
   "outputs": [
    {
     "name": "stderr",
     "output_type": "stream",
     "text": [
      "reaction.py:166 load_databases INFO Loading RMG database from '/Users/nathan/Code/RMG-database/input'\n",
      "thermo.py:902 load_libraries INFO Loading thermodynamics library from primaryThermoLibrary.py in /Users/nathan/Code/RMG-database/input/thermo/libraries...\n",
      "thermo.py:902 load_libraries INFO Loading thermodynamics library from thermo_DFT_CCSDTF12_BAC.py in /Users/nathan/Code/RMG-database/input/thermo/libraries...\n",
      "thermo.py:902 load_libraries INFO Loading thermodynamics library from CBS_QB3_1dHR.py in /Users/nathan/Code/RMG-database/input/thermo/libraries...\n",
      "thermo.py:921 load_groups INFO Loading thermodynamics group database from /Users/nathan/Code/RMG-database/input/thermo/groups...\n",
      "transport.py:294 load_groups INFO Loading transport group database from /Users/nathan/Code/RMG-database/input/transport/groups...\n",
      "statmech.py:553 load_groups INFO Loading frequencies group database from /Users/nathan/Code/RMG-database/input/statmech/groups...\n",
      "base.py:215 load INFO Loading transitions state family groups from /Users/nathan/Code/AutoTST/database/R_Addition_MultipleBond/TS_groups.py\n",
      "base.py:215 load INFO Loading transitions state family groups from /Users/nathan/Code/AutoTST/database/H_Abstraction/TS_groups.py\n",
      "base.py:215 load INFO Loading transitions state family groups from /Users/nathan/Code/AutoTST/database/intra_H_migration/TS_groups.py\n",
      "reaction.py:321 get_labeled_reaction INFO Trying to match reacction to <ReactionFamily \"H_Abstraction\">\n",
      "reaction.py:349 get_labeled_reaction INFO Matched reaction to H_Abstraction family\n",
      "reaction.py:321 get_labeled_reaction INFO Trying to match reacction to <ReactionFamily \"R_Addition_MultipleBond\">\n",
      "reaction.py:321 get_labeled_reaction INFO Trying to match reacction to <ReactionFamily \"intra_H_migration\">\n",
      "reaction.py:332 get_labeled_reaction ERROR Couldn't match <Molecule \"CC=C(C)C\"> + <Molecule \"[O]O\"> <=> <Molecule \"[CH2]C=C(C)C\"> + <Molecule \"OO\"> to intra_H_migration, trying different combination...\n",
      "reaction.py:332 get_labeled_reaction ERROR Couldn't match <Molecule \"CC=C(C)C\"> + <Molecule \"[O]O\"> <=> <Molecule \"C=C[C](C)C\"> + <Molecule \"OO\"> to intra_H_migration, trying different combination...\n",
      "reaction.py:321 get_labeled_reaction INFO Trying to match reacction to <ReactionFamily \"H_Abstraction\">\n",
      "reaction.py:349 get_labeled_reaction INFO Matched reaction to H_Abstraction family\n",
      "reaction.py:321 get_labeled_reaction INFO Trying to match reacction to <ReactionFamily \"R_Addition_MultipleBond\">\n",
      "reaction.py:321 get_labeled_reaction INFO Trying to match reacction to <ReactionFamily \"intra_H_migration\">\n",
      "reaction.py:332 get_labeled_reaction ERROR Couldn't match <Molecule \"CC=C(C)C\"> + <Molecule \"[O]O\"> <=> <Molecule \"[CH2]C=C(C)C\"> + <Molecule \"OO\"> to intra_H_migration, trying different combination...\n",
      "reaction.py:332 get_labeled_reaction ERROR Couldn't match <Molecule \"CC=C(C)C\"> + <Molecule \"[O]O\"> <=> <Molecule \"C=C[C](C)C\"> + <Molecule \"OO\"> to intra_H_migration, trying different combination...\n",
      "reaction.py:247 generate_distance_data INFO Distance between *1 and *3 is too small, setting it to lower bound of uncertainty\n",
      "reaction.py:252 generate_distance_data INFO The distance data is as follows: DistanceData(distances={'d12': 1.322228,'d13': 2.442521,'d23': 1.235329,}, uncertainties={'d12': 0.368943,'d13': 0.209844,'d23': 0.312795,}, comment='Matched node C/H3/Cd ([<Entry index=119 label=\"C/H3/Cd\">, <Entry index=210 label=\"Csj/Ct/H2\">])\\nMatched node OjO ([<Entry index=126 label=\"C/H2/Cd/Cd\">, <Entry index=32 label=\"OjO\">])\\n')\n"
     ]
    },
    {
     "data": {
      "text/plain": [
       "{'forward': [<TS \"CC=C(C)C.[O]O\">], 'reverse': [<TS \"OO.[CH2]C=C(C)C\">]}"
      ]
     },
     "execution_count": 6,
     "metadata": {},
     "output_type": "execute_result"
    }
   ],
   "source": [
    "transitionstates = rxn.ts[\"reverse\"] #the rxn.ts is a dictionary with keys being \"forward\" and \"reverse\"\n",
    "ts = transitionstates[0] #transitionstates is a list of TS objects, this list is currently length 1\n",
    "rxn.ts"
   ]
  },
  {
   "cell_type": "markdown",
   "metadata": {},
   "source": [
    "# Editing geometries of `Conformer` and `TS` objects\n",
    "\n",
    "AutoTST allows you to edit the following features of a `Conformer` or a `TS` object:\n",
    "- Bond length\n",
    "- Angles\n",
    "- Dihedrals\n",
    "- CisTrans bond orientation\n",
    "- Sterocenter orientation\n",
    "\n",
    "The definitions for all of these objects can be found in `geometry.py`."
   ]
  },
  {
   "cell_type": "code",
   "execution_count": 7,
   "metadata": {},
   "outputs": [
    {
     "data": {
      "application/3dmoljs_load.v0": "<div id=\"3dmolviewer_15828350254274461\"  style=\"position: relative; width: 600px; height: 600px\">\n        <p id=\"3dmolwarning_15828350254274461\" style=\"background-color:#ffcccc;color:black\">You appear to be running in JupyterLab (or JavaScript failed to load for some other reason).  You need to install the 3dmol extension: <br>\n        <tt>jupyter labextension install jupyterlab_3dmol</tt></p>\n        </div>\n<script>\n\nvar loadScriptAsync = function(uri){\n  return new Promise((resolve, reject) => {\n    var tag = document.createElement('script');\n    tag.src = uri;\n    tag.async = true;\n    tag.onload = () => {\n      resolve();\n    };\n  var firstScriptTag = document.getElementsByTagName('script')[0];\n  firstScriptTag.parentNode.insertBefore(tag, firstScriptTag);\n});\n};\n\nif(typeof $3Dmolpromise === 'undefined') {\n$3Dmolpromise = null;\n  $3Dmolpromise = loadScriptAsync('https://3dmol.csb.pitt.edu/build/3Dmol.js');\n}\n\nvar viewer_15828350254274461 = null;\nvar warn = document.getElementById(\"3dmolwarning_15828350254274461\");\nif(warn) {\n    warn.parentNode.removeChild(warn);\n}\n$3Dmolpromise.then(function() {\nviewer_15828350254274461 = $3Dmol.createViewer($(\"#3dmolviewer_15828350254274461\"),{backgroundColor:\"white\"});\n\tviewer_15828350254274461.addModel(\"\\n     RDKit          3D\\n\\n 12 11  0  0  0  0  0  0  0  0999 V2000\\n   -0.4689    2.2670   -0.4411 Cl  0  0  0  0  0  0  0  0  0  0  0  0\\n    3.1357   -0.3590    0.6304 Cl  0  0  0  0  0  0  0  0  0  0  0  0\\n    0.6057   -1.5705   -0.1359 O   0  0  0  0  0  0  0  0  0  0  0  0\\n   -1.7598    0.0328    0.2813 N   0  0  0  0  0  0  0  0  0  0  0  0\\n   -0.6684    0.5012   -0.5093 C   0  0  0  0  0  0  0  0  0  0  0  0\\n    0.5940   -0.1873   -0.1330 C   0  0  0  0  0  0  0  0  0  0  0  0\\n    1.6767    0.5020    0.1958 C   0  0  0  0  0  0  0  0  0  0  0  0\\n   -0.8823    0.1896   -1.5749 H   0  0  0  0  0  0  0  0  0  0  0  0\\n   -2.2682   -0.7403   -0.1863 H   0  0  0  0  0  0  0  0  0  0  0  0\\n   -1.5465   -0.1314    1.2785 H   0  0  0  0  0  0  0  0  0  0  0  0\\n    1.6388    1.5883    0.1894 H   0  0  0  0  0  0  0  0  0  0  0  0\\n   -0.0567   -2.0923    0.4053 H   0  0  0  0  0  0  0  0  0  0  0  0\\n  1  5  1  0\\n  2  7  1  0\\n  3  6  1  0\\n  3 12  1  0\\n  4  5  1  0\\n  4  9  1  0\\n  4 10  1  0\\n  5  6  1  0\\n  5  8  1  0\\n  6  7  2  0\\n  7 11  1  0\\nM  END\\n\",\"sdf\");\n\tviewer_15828350254274461.setStyle({\"stick\": {}});\n\tviewer_15828350254274461.setBackgroundColor(\"0xeeeeee\");\n\tviewer_15828350254274461.zoomTo();\nviewer_15828350254274461.render();\n});\n</script>",
      "text/html": [
       "<div id=\"3dmolviewer_15828350254274461\"  style=\"position: relative; width: 600px; height: 600px\">\n",
       "        <p id=\"3dmolwarning_15828350254274461\" style=\"background-color:#ffcccc;color:black\">You appear to be running in JupyterLab (or JavaScript failed to load for some other reason).  You need to install the 3dmol extension: <br>\n",
       "        <tt>jupyter labextension install jupyterlab_3dmol</tt></p>\n",
       "        </div>\n",
       "<script>\n",
       "\n",
       "var loadScriptAsync = function(uri){\n",
       "  return new Promise((resolve, reject) => {\n",
       "    var tag = document.createElement('script');\n",
       "    tag.src = uri;\n",
       "    tag.async = true;\n",
       "    tag.onload = () => {\n",
       "      resolve();\n",
       "    };\n",
       "  var firstScriptTag = document.getElementsByTagName('script')[0];\n",
       "  firstScriptTag.parentNode.insertBefore(tag, firstScriptTag);\n",
       "});\n",
       "};\n",
       "\n",
       "if(typeof $3Dmolpromise === 'undefined') {\n",
       "$3Dmolpromise = null;\n",
       "  $3Dmolpromise = loadScriptAsync('https://3dmol.csb.pitt.edu/build/3Dmol.js');\n",
       "}\n",
       "\n",
       "var viewer_15828350254274461 = null;\n",
       "var warn = document.getElementById(\"3dmolwarning_15828350254274461\");\n",
       "if(warn) {\n",
       "    warn.parentNode.removeChild(warn);\n",
       "}\n",
       "$3Dmolpromise.then(function() {\n",
       "viewer_15828350254274461 = $3Dmol.createViewer($(\"#3dmolviewer_15828350254274461\"),{backgroundColor:\"white\"});\n",
       "\tviewer_15828350254274461.addModel(\"\\n     RDKit          3D\\n\\n 12 11  0  0  0  0  0  0  0  0999 V2000\\n   -0.4689    2.2670   -0.4411 Cl  0  0  0  0  0  0  0  0  0  0  0  0\\n    3.1357   -0.3590    0.6304 Cl  0  0  0  0  0  0  0  0  0  0  0  0\\n    0.6057   -1.5705   -0.1359 O   0  0  0  0  0  0  0  0  0  0  0  0\\n   -1.7598    0.0328    0.2813 N   0  0  0  0  0  0  0  0  0  0  0  0\\n   -0.6684    0.5012   -0.5093 C   0  0  0  0  0  0  0  0  0  0  0  0\\n    0.5940   -0.1873   -0.1330 C   0  0  0  0  0  0  0  0  0  0  0  0\\n    1.6767    0.5020    0.1958 C   0  0  0  0  0  0  0  0  0  0  0  0\\n   -0.8823    0.1896   -1.5749 H   0  0  0  0  0  0  0  0  0  0  0  0\\n   -2.2682   -0.7403   -0.1863 H   0  0  0  0  0  0  0  0  0  0  0  0\\n   -1.5465   -0.1314    1.2785 H   0  0  0  0  0  0  0  0  0  0  0  0\\n    1.6388    1.5883    0.1894 H   0  0  0  0  0  0  0  0  0  0  0  0\\n   -0.0567   -2.0923    0.4053 H   0  0  0  0  0  0  0  0  0  0  0  0\\n  1  5  1  0\\n  2  7  1  0\\n  3  6  1  0\\n  3 12  1  0\\n  4  5  1  0\\n  4  9  1  0\\n  4 10  1  0\\n  5  6  1  0\\n  5  8  1  0\\n  6  7  2  0\\n  7 11  1  0\\nM  END\\n\",\"sdf\");\n",
       "\tviewer_15828350254274461.setStyle({\"stick\": {}});\n",
       "\tviewer_15828350254274461.setBackgroundColor(\"0xeeeeee\");\n",
       "\tviewer_15828350254274461.zoomTo();\n",
       "viewer_15828350254274461.render();\n",
       "});\n",
       "</script>"
      ]
     },
     "metadata": {},
     "output_type": "display_data"
    },
    {
     "name": "stdout",
     "output_type": "stream",
     "text": [
      "<Conformer \"ClC=C(O)C(N)Cl\"> has the following geometries:\n",
      "\n",
      "Bonds\n",
      "\t- <Bond \"(0, 4)\">: 0\n",
      "\t- <Bond \"(1, 6)\">: 1\n",
      "\t- <Bond \"(2, 5)\">: 2\n",
      "\t- <Bond \"(2, 11)\">: 3\n",
      "\t- <Bond \"(3, 4)\">: 4\n",
      "\t- <Bond \"(3, 8)\">: 5\n",
      "\t- <Bond \"(3, 9)\">: 6\n",
      "\t- <Bond \"(4, 5)\">: 7\n",
      "\t- <Bond \"(4, 7)\">: 8\n",
      "\t- <Bond \"(5, 6)\">: 9\n",
      "\t- <Bond \"(6, 10)\">: 10\n",
      "\n",
      "Angles\n",
      "\t- <Angle \"(0, 4, 3)\">: 0\n",
      "\t- <Angle \"(0, 4, 5)\">: 1\n",
      "\t- <Angle \"(0, 4, 7)\">: 2\n",
      "\t- <Angle \"(1, 6, 5)\">: 3\n",
      "\t- <Angle \"(1, 6, 10)\">: 4\n",
      "\t- <Angle \"(2, 5, 4)\">: 5\n",
      "\t- <Angle \"(2, 5, 6)\">: 6\n",
      "\t- <Angle \"(3, 4, 5)\">: 7\n",
      "\t- <Angle \"(3, 4, 7)\">: 8\n",
      "\t- <Angle \"(4, 3, 8)\">: 9\n",
      "\t- <Angle \"(4, 3, 9)\">: 10\n",
      "\t- <Angle \"(4, 5, 6)\">: 11\n",
      "\t- <Angle \"(5, 2, 11)\">: 12\n",
      "\t- <Angle \"(5, 4, 7)\">: 13\n",
      "\t- <Angle \"(5, 6, 10)\">: 14\n",
      "\t- <Angle \"(8, 3, 9)\">: 15\n",
      "\n",
      "Dihedrals\n",
      "\t- <Torsion \"(11, 2, 5, 6)\">: 0\n",
      "\t- <Torsion \"(9, 3, 4, 7)\">: 1\n",
      "\t- <Torsion \"(7, 4, 5, 6)\">: 2\n",
      "\n",
      "CisTrans Bonds\n",
      "\t- <CisTrans \"[4, 5, 6, 10] - Z\">: \n",
      "\n",
      "Chiral Centers\n",
      "\t- <ChiralCenter \"4 - ?\">: 0\n"
     ]
    }
   ],
   "source": [
    "conformer = Conformer(\"ClC=C(O)C(N)Cl\")\n",
    "conformer.view()\n",
    "print(\"{} has the following geometries:\".format(conformer))\n",
    "print(\"\")\n",
    "print(\"Bonds\")\n",
    "for bond in conformer.bonds:\n",
    "    print(\"\\t- {}: {}\".format(bond, bond.index))\n",
    "    \n",
    "print(\"\")\n",
    "print(\"Angles\")\n",
    "for angle in conformer.angles:\n",
    "    print(\"\\t- {}: {}\".format(angle, angle.index))\n",
    "    \n",
    "print(\"\")\n",
    "print(\"Dihedrals\")\n",
    "for torsion in conformer.torsions:\n",
    "    print(\"\\t- {}: {}\".format(torsion, torsion.index))\n",
    "    \n",
    "print(\"\")\n",
    "print(\"CisTrans Bonds\")\n",
    "for cistran in conformer.cistrans:\n",
    "    print(\"\\t- {}: \".format(cistran, cistran.index))\n",
    "    \n",
    "print(\"\")\n",
    "print(\"Chiral Centers\")\n",
    "for chiral_center in conformer.chiral_centers:\n",
    "    print(\"\\t- {}: {}\".format(chiral_center, chiral_center.index))\n"
   ]
  },
  {
   "cell_type": "markdown",
   "metadata": {},
   "source": [
    "In addition, you can set variables for each of these objects. This next section of the notebook will walk though how to do all of this."
   ]
  },
  {
   "cell_type": "code",
   "execution_count": 8,
   "metadata": {},
   "outputs": [
    {
     "data": {
      "application/3dmoljs_load.v0": "<div id=\"3dmolviewer_1582835025436343\"  style=\"position: relative; width: 600px; height: 600px\">\n        <p id=\"3dmolwarning_1582835025436343\" style=\"background-color:#ffcccc;color:black\">You appear to be running in JupyterLab (or JavaScript failed to load for some other reason).  You need to install the 3dmol extension: <br>\n        <tt>jupyter labextension install jupyterlab_3dmol</tt></p>\n        </div>\n<script>\n\nvar loadScriptAsync = function(uri){\n  return new Promise((resolve, reject) => {\n    var tag = document.createElement('script');\n    tag.src = uri;\n    tag.async = true;\n    tag.onload = () => {\n      resolve();\n    };\n  var firstScriptTag = document.getElementsByTagName('script')[0];\n  firstScriptTag.parentNode.insertBefore(tag, firstScriptTag);\n});\n};\n\nif(typeof $3Dmolpromise === 'undefined') {\n$3Dmolpromise = null;\n  $3Dmolpromise = loadScriptAsync('https://3dmol.csb.pitt.edu/build/3Dmol.js');\n}\n\nvar viewer_1582835025436343 = null;\nvar warn = document.getElementById(\"3dmolwarning_1582835025436343\");\nif(warn) {\n    warn.parentNode.removeChild(warn);\n}\n$3Dmolpromise.then(function() {\nviewer_1582835025436343 = $3Dmol.createViewer($(\"#3dmolviewer_1582835025436343\"),{backgroundColor:\"white\"});\n\tviewer_1582835025436343.addModel(\"\\n     RDKit          3D\\n\\n 12 11  0  0  0  0  0  0  0  0999 V2000\\n   -0.4689    2.2670   -0.4411 Cl  0  0  0  0  0  0  0  0  0  0  0  0\\n    3.1357   -0.3590    0.6304 Cl  0  0  0  0  0  0  0  0  0  0  0  0\\n    0.6057   -1.5705   -0.1359 O   0  0  0  0  0  0  0  0  0  0  0  0\\n   -1.7598    0.0328    0.2813 N   0  0  0  0  0  0  0  0  0  0  0  0\\n   -0.6684    0.5012   -0.5093 C   0  0  0  0  0  0  0  0  0  0  0  0\\n    0.5940   -0.1873   -0.1330 C   0  0  0  0  0  0  0  0  0  0  0  0\\n    1.6767    0.5020    0.1958 C   0  0  0  0  0  0  0  0  0  0  0  0\\n   -0.8823    0.1896   -1.5749 H   0  0  0  0  0  0  0  0  0  0  0  0\\n   -2.2682   -0.7403   -0.1863 H   0  0  0  0  0  0  0  0  0  0  0  0\\n   -1.5465   -0.1314    1.2785 H   0  0  0  0  0  0  0  0  0  0  0  0\\n    1.6388    1.5883    0.1894 H   0  0  0  0  0  0  0  0  0  0  0  0\\n   -1.3776   -3.1328    1.4845 H   0  0  0  0  0  0  0  0  0  0  0  0\\n  1  5  1  0\\n  2  7  1  0\\n  3  6  1  0\\n  3 12  1  0\\n  4  5  1  0\\n  4  9  1  0\\n  4 10  1  0\\n  5  6  1  0\\n  5  8  1  0\\n  6  7  2  0\\n  7 11  1  0\\nM  END\\n\",\"sdf\");\n\tviewer_1582835025436343.setStyle({\"stick\": {}});\n\tviewer_1582835025436343.setBackgroundColor(\"0xeeeeee\");\n\tviewer_1582835025436343.zoomTo();\nviewer_1582835025436343.render();\n});\n</script>",
      "text/html": [
       "<div id=\"3dmolviewer_1582835025436343\"  style=\"position: relative; width: 600px; height: 600px\">\n",
       "        <p id=\"3dmolwarning_1582835025436343\" style=\"background-color:#ffcccc;color:black\">You appear to be running in JupyterLab (or JavaScript failed to load for some other reason).  You need to install the 3dmol extension: <br>\n",
       "        <tt>jupyter labextension install jupyterlab_3dmol</tt></p>\n",
       "        </div>\n",
       "<script>\n",
       "\n",
       "var loadScriptAsync = function(uri){\n",
       "  return new Promise((resolve, reject) => {\n",
       "    var tag = document.createElement('script');\n",
       "    tag.src = uri;\n",
       "    tag.async = true;\n",
       "    tag.onload = () => {\n",
       "      resolve();\n",
       "    };\n",
       "  var firstScriptTag = document.getElementsByTagName('script')[0];\n",
       "  firstScriptTag.parentNode.insertBefore(tag, firstScriptTag);\n",
       "});\n",
       "};\n",
       "\n",
       "if(typeof $3Dmolpromise === 'undefined') {\n",
       "$3Dmolpromise = null;\n",
       "  $3Dmolpromise = loadScriptAsync('https://3dmol.csb.pitt.edu/build/3Dmol.js');\n",
       "}\n",
       "\n",
       "var viewer_1582835025436343 = null;\n",
       "var warn = document.getElementById(\"3dmolwarning_1582835025436343\");\n",
       "if(warn) {\n",
       "    warn.parentNode.removeChild(warn);\n",
       "}\n",
       "$3Dmolpromise.then(function() {\n",
       "viewer_1582835025436343 = $3Dmol.createViewer($(\"#3dmolviewer_1582835025436343\"),{backgroundColor:\"white\"});\n",
       "\tviewer_1582835025436343.addModel(\"\\n     RDKit          3D\\n\\n 12 11  0  0  0  0  0  0  0  0999 V2000\\n   -0.4689    2.2670   -0.4411 Cl  0  0  0  0  0  0  0  0  0  0  0  0\\n    3.1357   -0.3590    0.6304 Cl  0  0  0  0  0  0  0  0  0  0  0  0\\n    0.6057   -1.5705   -0.1359 O   0  0  0  0  0  0  0  0  0  0  0  0\\n   -1.7598    0.0328    0.2813 N   0  0  0  0  0  0  0  0  0  0  0  0\\n   -0.6684    0.5012   -0.5093 C   0  0  0  0  0  0  0  0  0  0  0  0\\n    0.5940   -0.1873   -0.1330 C   0  0  0  0  0  0  0  0  0  0  0  0\\n    1.6767    0.5020    0.1958 C   0  0  0  0  0  0  0  0  0  0  0  0\\n   -0.8823    0.1896   -1.5749 H   0  0  0  0  0  0  0  0  0  0  0  0\\n   -2.2682   -0.7403   -0.1863 H   0  0  0  0  0  0  0  0  0  0  0  0\\n   -1.5465   -0.1314    1.2785 H   0  0  0  0  0  0  0  0  0  0  0  0\\n    1.6388    1.5883    0.1894 H   0  0  0  0  0  0  0  0  0  0  0  0\\n   -1.3776   -3.1328    1.4845 H   0  0  0  0  0  0  0  0  0  0  0  0\\n  1  5  1  0\\n  2  7  1  0\\n  3  6  1  0\\n  3 12  1  0\\n  4  5  1  0\\n  4  9  1  0\\n  4 10  1  0\\n  5  6  1  0\\n  5  8  1  0\\n  6  7  2  0\\n  7 11  1  0\\nM  END\\n\",\"sdf\");\n",
       "\tviewer_1582835025436343.setStyle({\"stick\": {}});\n",
       "\tviewer_1582835025436343.setBackgroundColor(\"0xeeeeee\");\n",
       "\tviewer_1582835025436343.zoomTo();\n",
       "viewer_1582835025436343.render();\n",
       "});\n",
       "</script>"
      ]
     },
     "metadata": {},
     "output_type": "display_data"
    }
   ],
   "source": [
    "conformer.set_bond_length(bond_index=3, length=3) #Length is specified in angstroms\n",
    "conformer.view()"
   ]
  },
  {
   "cell_type": "code",
   "execution_count": 9,
   "metadata": {},
   "outputs": [
    {
     "data": {
      "application/3dmoljs_load.v0": "<div id=\"3dmolviewer_1582835025445965\"  style=\"position: relative; width: 600px; height: 600px\">\n        <p id=\"3dmolwarning_1582835025445965\" style=\"background-color:#ffcccc;color:black\">You appear to be running in JupyterLab (or JavaScript failed to load for some other reason).  You need to install the 3dmol extension: <br>\n        <tt>jupyter labextension install jupyterlab_3dmol</tt></p>\n        </div>\n<script>\n\nvar loadScriptAsync = function(uri){\n  return new Promise((resolve, reject) => {\n    var tag = document.createElement('script');\n    tag.src = uri;\n    tag.async = true;\n    tag.onload = () => {\n      resolve();\n    };\n  var firstScriptTag = document.getElementsByTagName('script')[0];\n  firstScriptTag.parentNode.insertBefore(tag, firstScriptTag);\n});\n};\n\nif(typeof $3Dmolpromise === 'undefined') {\n$3Dmolpromise = null;\n  $3Dmolpromise = loadScriptAsync('https://3dmol.csb.pitt.edu/build/3Dmol.js');\n}\n\nvar viewer_1582835025445965 = null;\nvar warn = document.getElementById(\"3dmolwarning_1582835025445965\");\nif(warn) {\n    warn.parentNode.removeChild(warn);\n}\n$3Dmolpromise.then(function() {\nviewer_1582835025445965 = $3Dmol.createViewer($(\"#3dmolviewer_1582835025445965\"),{backgroundColor:\"white\"});\n\tviewer_1582835025445965.addModel(\"\\n     RDKit          3D\\n\\n 12 11  0  0  0  0  0  0  0  0999 V2000\\n    0.6091    1.6734   -0.1138 Cl  0  0  0  0  0  0  0  0  0  0  0  0\\n   -0.2944   -1.6454    2.9203 Cl  0  0  0  0  0  0  0  0  0  0  0  0\\n   -1.7821   -1.4832    0.4270 O   0  0  0  0  0  0  0  0  0  0  0  0\\n   -1.7598    0.0328    0.2813 N   0  0  0  0  0  0  0  0  0  0  0  0\\n   -0.6684    0.5012   -0.5093 C   0  0  0  0  0  0  0  0  0  0  0  0\\n   -0.8242   -0.4971    0.5808 C   0  0  0  0  0  0  0  0  0  0  0  0\\n   -0.0690   -0.4453    1.6682 C   0  0  0  0  0  0  0  0  0  0  0  0\\n   -0.3647   -0.0887   -1.4248 H   0  0  0  0  0  0  0  0  0  0  0  0\\n   -2.2682   -0.7403   -0.1863 H   0  0  0  0  0  0  0  0  0  0  0  0\\n   -1.5465   -0.1314    1.2785 H   0  0  0  0  0  0  0  0  0  0  0  0\\n    0.6759    0.3407    1.7623 H   0  0  0  0  0  0  0  0  0  0  0  0\\n   -4.6521   -0.7782   -0.0883 H   0  0  0  0  0  0  0  0  0  0  0  0\\n  1  5  1  0\\n  2  7  1  0\\n  3  6  1  0\\n  3 12  1  0\\n  4  5  1  0\\n  4  9  1  0\\n  4 10  1  0\\n  5  6  1  0\\n  5  8  1  0\\n  6  7  2  0\\n  7 11  1  0\\nM  END\\n\",\"sdf\");\n\tviewer_1582835025445965.setStyle({\"stick\": {}});\n\tviewer_1582835025445965.setBackgroundColor(\"0xeeeeee\");\n\tviewer_1582835025445965.zoomTo();\nviewer_1582835025445965.render();\n});\n</script>",
      "text/html": [
       "<div id=\"3dmolviewer_1582835025445965\"  style=\"position: relative; width: 600px; height: 600px\">\n",
       "        <p id=\"3dmolwarning_1582835025445965\" style=\"background-color:#ffcccc;color:black\">You appear to be running in JupyterLab (or JavaScript failed to load for some other reason).  You need to install the 3dmol extension: <br>\n",
       "        <tt>jupyter labextension install jupyterlab_3dmol</tt></p>\n",
       "        </div>\n",
       "<script>\n",
       "\n",
       "var loadScriptAsync = function(uri){\n",
       "  return new Promise((resolve, reject) => {\n",
       "    var tag = document.createElement('script');\n",
       "    tag.src = uri;\n",
       "    tag.async = true;\n",
       "    tag.onload = () => {\n",
       "      resolve();\n",
       "    };\n",
       "  var firstScriptTag = document.getElementsByTagName('script')[0];\n",
       "  firstScriptTag.parentNode.insertBefore(tag, firstScriptTag);\n",
       "});\n",
       "};\n",
       "\n",
       "if(typeof $3Dmolpromise === 'undefined') {\n",
       "$3Dmolpromise = null;\n",
       "  $3Dmolpromise = loadScriptAsync('https://3dmol.csb.pitt.edu/build/3Dmol.js');\n",
       "}\n",
       "\n",
       "var viewer_1582835025445965 = null;\n",
       "var warn = document.getElementById(\"3dmolwarning_1582835025445965\");\n",
       "if(warn) {\n",
       "    warn.parentNode.removeChild(warn);\n",
       "}\n",
       "$3Dmolpromise.then(function() {\n",
       "viewer_1582835025445965 = $3Dmol.createViewer($(\"#3dmolviewer_1582835025445965\"),{backgroundColor:\"white\"});\n",
       "\tviewer_1582835025445965.addModel(\"\\n     RDKit          3D\\n\\n 12 11  0  0  0  0  0  0  0  0999 V2000\\n    0.6091    1.6734   -0.1138 Cl  0  0  0  0  0  0  0  0  0  0  0  0\\n   -0.2944   -1.6454    2.9203 Cl  0  0  0  0  0  0  0  0  0  0  0  0\\n   -1.7821   -1.4832    0.4270 O   0  0  0  0  0  0  0  0  0  0  0  0\\n   -1.7598    0.0328    0.2813 N   0  0  0  0  0  0  0  0  0  0  0  0\\n   -0.6684    0.5012   -0.5093 C   0  0  0  0  0  0  0  0  0  0  0  0\\n   -0.8242   -0.4971    0.5808 C   0  0  0  0  0  0  0  0  0  0  0  0\\n   -0.0690   -0.4453    1.6682 C   0  0  0  0  0  0  0  0  0  0  0  0\\n   -0.3647   -0.0887   -1.4248 H   0  0  0  0  0  0  0  0  0  0  0  0\\n   -2.2682   -0.7403   -0.1863 H   0  0  0  0  0  0  0  0  0  0  0  0\\n   -1.5465   -0.1314    1.2785 H   0  0  0  0  0  0  0  0  0  0  0  0\\n    0.6759    0.3407    1.7623 H   0  0  0  0  0  0  0  0  0  0  0  0\\n   -4.6521   -0.7782   -0.0883 H   0  0  0  0  0  0  0  0  0  0  0  0\\n  1  5  1  0\\n  2  7  1  0\\n  3  6  1  0\\n  3 12  1  0\\n  4  5  1  0\\n  4  9  1  0\\n  4 10  1  0\\n  5  6  1  0\\n  5  8  1  0\\n  6  7  2  0\\n  7 11  1  0\\nM  END\\n\",\"sdf\");\n",
       "\tviewer_1582835025445965.setStyle({\"stick\": {}});\n",
       "\tviewer_1582835025445965.setBackgroundColor(\"0xeeeeee\");\n",
       "\tviewer_1582835025445965.zoomTo();\n",
       "viewer_1582835025445965.render();\n",
       "});\n",
       "</script>"
      ]
     },
     "metadata": {},
     "output_type": "display_data"
    }
   ],
   "source": [
    "conformer.set_angle(angle_index=7, angle=45.) #Angles are specified in degrees\n",
    "conformer.view()"
   ]
  },
  {
   "cell_type": "code",
   "execution_count": 10,
   "metadata": {},
   "outputs": [
    {
     "data": {
      "application/3dmoljs_load.v0": "<div id=\"3dmolviewer_1582835025454134\"  style=\"position: relative; width: 600px; height: 600px\">\n        <p id=\"3dmolwarning_1582835025454134\" style=\"background-color:#ffcccc;color:black\">You appear to be running in JupyterLab (or JavaScript failed to load for some other reason).  You need to install the 3dmol extension: <br>\n        <tt>jupyter labextension install jupyterlab_3dmol</tt></p>\n        </div>\n<script>\n\nvar loadScriptAsync = function(uri){\n  return new Promise((resolve, reject) => {\n    var tag = document.createElement('script');\n    tag.src = uri;\n    tag.async = true;\n    tag.onload = () => {\n      resolve();\n    };\n  var firstScriptTag = document.getElementsByTagName('script')[0];\n  firstScriptTag.parentNode.insertBefore(tag, firstScriptTag);\n});\n};\n\nif(typeof $3Dmolpromise === 'undefined') {\n$3Dmolpromise = null;\n  $3Dmolpromise = loadScriptAsync('https://3dmol.csb.pitt.edu/build/3Dmol.js');\n}\n\nvar viewer_1582835025454134 = null;\nvar warn = document.getElementById(\"3dmolwarning_1582835025454134\");\nif(warn) {\n    warn.parentNode.removeChild(warn);\n}\n$3Dmolpromise.then(function() {\nviewer_1582835025454134 = $3Dmol.createViewer($(\"#3dmolviewer_1582835025454134\"),{backgroundColor:\"white\"});\n\tviewer_1582835025454134.addModel(\"\\n     RDKit          3D\\n\\n 12 11  0  0  0  0  0  0  0  0999 V2000\\n    0.1188    2.0213    0.7094 Cl  0  0  0  0  0  0  0  0  0  0  0  0\\n    0.9009   -2.4935    0.9138 Cl  0  0  0  0  0  0  0  0  0  0  0  0\\n   -1.7821   -1.4832    0.4270 O   0  0  0  0  0  0  0  0  0  0  0  0\\n   -1.6669   -0.2090    1.2536 N   0  0  0  0  0  0  0  0  0  0  0  0\\n   -1.2596    0.9207    0.4833 C   0  0  0  0  0  0  0  0  0  0  0  0\\n   -0.8242   -0.4971    0.5808 C   0  0  0  0  0  0  0  0  0  0  0  0\\n    0.4433   -0.8088    0.8084 C   0  0  0  0  0  0  0  0  0  0  0  0\\n   -1.6699    1.0447   -0.5630 H   0  0  0  0  0  0  0  0  0  0  0  0\\n   -2.4472   -0.7205    0.8015 H   0  0  0  0  0  0  0  0  0  0  0  0\\n   -0.9008   -0.8088    1.6002 H   0  0  0  0  0  0  0  0  0  0  0  0\\n    1.1747   -0.0132    0.9251 H   0  0  0  0  0  0  0  0  0  0  0  0\\n   -4.6521   -0.7782   -0.0883 H   0  0  0  0  0  0  0  0  0  0  0  0\\n  1  5  1  0\\n  2  7  1  0\\n  3  6  1  0\\n  3 12  1  0\\n  4  5  1  0\\n  4  9  1  0\\n  4 10  1  0\\n  5  6  1  0\\n  5  8  1  0\\n  6  7  2  0\\n  7 11  1  0\\nM  END\\n\",\"sdf\");\n\tviewer_1582835025454134.setStyle({\"stick\": {}});\n\tviewer_1582835025454134.setBackgroundColor(\"0xeeeeee\");\n\tviewer_1582835025454134.zoomTo();\nviewer_1582835025454134.render();\n});\n</script>",
      "text/html": [
       "<div id=\"3dmolviewer_1582835025454134\"  style=\"position: relative; width: 600px; height: 600px\">\n",
       "        <p id=\"3dmolwarning_1582835025454134\" style=\"background-color:#ffcccc;color:black\">You appear to be running in JupyterLab (or JavaScript failed to load for some other reason).  You need to install the 3dmol extension: <br>\n",
       "        <tt>jupyter labextension install jupyterlab_3dmol</tt></p>\n",
       "        </div>\n",
       "<script>\n",
       "\n",
       "var loadScriptAsync = function(uri){\n",
       "  return new Promise((resolve, reject) => {\n",
       "    var tag = document.createElement('script');\n",
       "    tag.src = uri;\n",
       "    tag.async = true;\n",
       "    tag.onload = () => {\n",
       "      resolve();\n",
       "    };\n",
       "  var firstScriptTag = document.getElementsByTagName('script')[0];\n",
       "  firstScriptTag.parentNode.insertBefore(tag, firstScriptTag);\n",
       "});\n",
       "};\n",
       "\n",
       "if(typeof $3Dmolpromise === 'undefined') {\n",
       "$3Dmolpromise = null;\n",
       "  $3Dmolpromise = loadScriptAsync('https://3dmol.csb.pitt.edu/build/3Dmol.js');\n",
       "}\n",
       "\n",
       "var viewer_1582835025454134 = null;\n",
       "var warn = document.getElementById(\"3dmolwarning_1582835025454134\");\n",
       "if(warn) {\n",
       "    warn.parentNode.removeChild(warn);\n",
       "}\n",
       "$3Dmolpromise.then(function() {\n",
       "viewer_1582835025454134 = $3Dmol.createViewer($(\"#3dmolviewer_1582835025454134\"),{backgroundColor:\"white\"});\n",
       "\tviewer_1582835025454134.addModel(\"\\n     RDKit          3D\\n\\n 12 11  0  0  0  0  0  0  0  0999 V2000\\n    0.1188    2.0213    0.7094 Cl  0  0  0  0  0  0  0  0  0  0  0  0\\n    0.9009   -2.4935    0.9138 Cl  0  0  0  0  0  0  0  0  0  0  0  0\\n   -1.7821   -1.4832    0.4270 O   0  0  0  0  0  0  0  0  0  0  0  0\\n   -1.6669   -0.2090    1.2536 N   0  0  0  0  0  0  0  0  0  0  0  0\\n   -1.2596    0.9207    0.4833 C   0  0  0  0  0  0  0  0  0  0  0  0\\n   -0.8242   -0.4971    0.5808 C   0  0  0  0  0  0  0  0  0  0  0  0\\n    0.4433   -0.8088    0.8084 C   0  0  0  0  0  0  0  0  0  0  0  0\\n   -1.6699    1.0447   -0.5630 H   0  0  0  0  0  0  0  0  0  0  0  0\\n   -2.4472   -0.7205    0.8015 H   0  0  0  0  0  0  0  0  0  0  0  0\\n   -0.9008   -0.8088    1.6002 H   0  0  0  0  0  0  0  0  0  0  0  0\\n    1.1747   -0.0132    0.9251 H   0  0  0  0  0  0  0  0  0  0  0  0\\n   -4.6521   -0.7782   -0.0883 H   0  0  0  0  0  0  0  0  0  0  0  0\\n  1  5  1  0\\n  2  7  1  0\\n  3  6  1  0\\n  3 12  1  0\\n  4  5  1  0\\n  4  9  1  0\\n  4 10  1  0\\n  5  6  1  0\\n  5  8  1  0\\n  6  7  2  0\\n  7 11  1  0\\nM  END\\n\",\"sdf\");\n",
       "\tviewer_1582835025454134.setStyle({\"stick\": {}});\n",
       "\tviewer_1582835025454134.setBackgroundColor(\"0xeeeeee\");\n",
       "\tviewer_1582835025454134.zoomTo();\n",
       "viewer_1582835025454134.render();\n",
       "});\n",
       "</script>"
      ]
     },
     "metadata": {},
     "output_type": "display_data"
    }
   ],
   "source": [
    "conformer.set_torsion(torsion_index=0, dihedral=180)\n",
    "conformer.view()"
   ]
  },
  {
   "cell_type": "code",
   "execution_count": 11,
   "metadata": {},
   "outputs": [
    {
     "data": {
      "application/3dmoljs_load.v0": "<div id=\"3dmolviewer_15828350254587069\"  style=\"position: relative; width: 600px; height: 600px\">\n        <p id=\"3dmolwarning_15828350254587069\" style=\"background-color:#ffcccc;color:black\">You appear to be running in JupyterLab (or JavaScript failed to load for some other reason).  You need to install the 3dmol extension: <br>\n        <tt>jupyter labextension install jupyterlab_3dmol</tt></p>\n        </div>\n<script>\n\nvar loadScriptAsync = function(uri){\n  return new Promise((resolve, reject) => {\n    var tag = document.createElement('script');\n    tag.src = uri;\n    tag.async = true;\n    tag.onload = () => {\n      resolve();\n    };\n  var firstScriptTag = document.getElementsByTagName('script')[0];\n  firstScriptTag.parentNode.insertBefore(tag, firstScriptTag);\n});\n};\n\nif(typeof $3Dmolpromise === 'undefined') {\n$3Dmolpromise = null;\n  $3Dmolpromise = loadScriptAsync('https://3dmol.csb.pitt.edu/build/3Dmol.js');\n}\n\nvar viewer_15828350254587069 = null;\nvar warn = document.getElementById(\"3dmolwarning_15828350254587069\");\nif(warn) {\n    warn.parentNode.removeChild(warn);\n}\n$3Dmolpromise.then(function() {\nviewer_15828350254587069 = $3Dmol.createViewer($(\"#3dmolviewer_15828350254587069\"),{backgroundColor:\"white\"});\n\tviewer_15828350254587069.addModel(\"\\n     RDKit          3D\\n\\n 12 11  0  0  0  0  0  0  0  0999 V2000\\n    0.1188    2.0213    0.7094 Cl  0  0  0  0  0  0  0  0  0  0  0  0\\n    0.9009   -2.4935    0.9138 Cl  0  0  0  0  0  0  0  0  0  0  0  0\\n   -1.7821   -1.4832    0.4270 O   0  0  0  0  0  0  0  0  0  0  0  0\\n   -1.6669   -0.2090    1.2536 N   0  0  0  0  0  0  0  0  0  0  0  0\\n   -1.2596    0.9207    0.4833 C   0  0  0  0  0  0  0  0  0  0  0  0\\n   -0.8242   -0.4971    0.5808 C   0  0  0  0  0  0  0  0  0  0  0  0\\n    0.4433   -0.8088    0.8084 C   0  0  0  0  0  0  0  0  0  0  0  0\\n   -1.6699    1.0447   -0.5630 H   0  0  0  0  0  0  0  0  0  0  0  0\\n   -2.4472   -0.7205    0.8015 H   0  0  0  0  0  0  0  0  0  0  0  0\\n   -0.9008   -0.8088    1.6002 H   0  0  0  0  0  0  0  0  0  0  0  0\\n    1.1747   -0.0132    0.9251 H   0  0  0  0  0  0  0  0  0  0  0  0\\n   -4.6521   -0.7782   -0.0883 H   0  0  0  0  0  0  0  0  0  0  0  0\\n  1  5  1  0\\n  2  7  1  0\\n  3  6  1  0\\n  3 12  1  0\\n  4  5  1  0\\n  4  9  1  0\\n  4 10  1  0\\n  5  6  1  0\\n  5  8  1  0\\n  6  7  2  0\\n  7 11  1  0\\nM  END\\n\",\"sdf\");\n\tviewer_15828350254587069.setStyle({\"stick\": {}});\n\tviewer_15828350254587069.setBackgroundColor(\"0xeeeeee\");\n\tviewer_15828350254587069.zoomTo();\nviewer_15828350254587069.render();\n});\n</script>",
      "text/html": [
       "<div id=\"3dmolviewer_15828350254587069\"  style=\"position: relative; width: 600px; height: 600px\">\n",
       "        <p id=\"3dmolwarning_15828350254587069\" style=\"background-color:#ffcccc;color:black\">You appear to be running in JupyterLab (or JavaScript failed to load for some other reason).  You need to install the 3dmol extension: <br>\n",
       "        <tt>jupyter labextension install jupyterlab_3dmol</tt></p>\n",
       "        </div>\n",
       "<script>\n",
       "\n",
       "var loadScriptAsync = function(uri){\n",
       "  return new Promise((resolve, reject) => {\n",
       "    var tag = document.createElement('script');\n",
       "    tag.src = uri;\n",
       "    tag.async = true;\n",
       "    tag.onload = () => {\n",
       "      resolve();\n",
       "    };\n",
       "  var firstScriptTag = document.getElementsByTagName('script')[0];\n",
       "  firstScriptTag.parentNode.insertBefore(tag, firstScriptTag);\n",
       "});\n",
       "};\n",
       "\n",
       "if(typeof $3Dmolpromise === 'undefined') {\n",
       "$3Dmolpromise = null;\n",
       "  $3Dmolpromise = loadScriptAsync('https://3dmol.csb.pitt.edu/build/3Dmol.js');\n",
       "}\n",
       "\n",
       "var viewer_15828350254587069 = null;\n",
       "var warn = document.getElementById(\"3dmolwarning_15828350254587069\");\n",
       "if(warn) {\n",
       "    warn.parentNode.removeChild(warn);\n",
       "}\n",
       "$3Dmolpromise.then(function() {\n",
       "viewer_15828350254587069 = $3Dmol.createViewer($(\"#3dmolviewer_15828350254587069\"),{backgroundColor:\"white\"});\n",
       "\tviewer_15828350254587069.addModel(\"\\n     RDKit          3D\\n\\n 12 11  0  0  0  0  0  0  0  0999 V2000\\n    0.1188    2.0213    0.7094 Cl  0  0  0  0  0  0  0  0  0  0  0  0\\n    0.9009   -2.4935    0.9138 Cl  0  0  0  0  0  0  0  0  0  0  0  0\\n   -1.7821   -1.4832    0.4270 O   0  0  0  0  0  0  0  0  0  0  0  0\\n   -1.6669   -0.2090    1.2536 N   0  0  0  0  0  0  0  0  0  0  0  0\\n   -1.2596    0.9207    0.4833 C   0  0  0  0  0  0  0  0  0  0  0  0\\n   -0.8242   -0.4971    0.5808 C   0  0  0  0  0  0  0  0  0  0  0  0\\n    0.4433   -0.8088    0.8084 C   0  0  0  0  0  0  0  0  0  0  0  0\\n   -1.6699    1.0447   -0.5630 H   0  0  0  0  0  0  0  0  0  0  0  0\\n   -2.4472   -0.7205    0.8015 H   0  0  0  0  0  0  0  0  0  0  0  0\\n   -0.9008   -0.8088    1.6002 H   0  0  0  0  0  0  0  0  0  0  0  0\\n    1.1747   -0.0132    0.9251 H   0  0  0  0  0  0  0  0  0  0  0  0\\n   -4.6521   -0.7782   -0.0883 H   0  0  0  0  0  0  0  0  0  0  0  0\\n  1  5  1  0\\n  2  7  1  0\\n  3  6  1  0\\n  3 12  1  0\\n  4  5  1  0\\n  4  9  1  0\\n  4 10  1  0\\n  5  6  1  0\\n  5  8  1  0\\n  6  7  2  0\\n  7 11  1  0\\nM  END\\n\",\"sdf\");\n",
       "\tviewer_15828350254587069.setStyle({\"stick\": {}});\n",
       "\tviewer_15828350254587069.setBackgroundColor(\"0xeeeeee\");\n",
       "\tviewer_15828350254587069.zoomTo();\n",
       "viewer_15828350254587069.render();\n",
       "});\n",
       "</script>"
      ]
     },
     "metadata": {},
     "output_type": "display_data"
    }
   ],
   "source": [
    "conformer.set_cistrans(cistrans_index=0, stero=\"z\") #options for stero are E and Z\n",
    "conformer.view()"
   ]
  },
  {
   "cell_type": "code",
   "execution_count": 12,
   "metadata": {
    "scrolled": false
   },
   "outputs": [
    {
     "data": {
      "application/3dmoljs_load.v0": "<div id=\"3dmolviewer_1582835025472524\"  style=\"position: relative; width: 600px; height: 600px\">\n        <p id=\"3dmolwarning_1582835025472524\" style=\"background-color:#ffcccc;color:black\">You appear to be running in JupyterLab (or JavaScript failed to load for some other reason).  You need to install the 3dmol extension: <br>\n        <tt>jupyter labextension install jupyterlab_3dmol</tt></p>\n        </div>\n<script>\n\nvar loadScriptAsync = function(uri){\n  return new Promise((resolve, reject) => {\n    var tag = document.createElement('script');\n    tag.src = uri;\n    tag.async = true;\n    tag.onload = () => {\n      resolve();\n    };\n  var firstScriptTag = document.getElementsByTagName('script')[0];\n  firstScriptTag.parentNode.insertBefore(tag, firstScriptTag);\n});\n};\n\nif(typeof $3Dmolpromise === 'undefined') {\n$3Dmolpromise = null;\n  $3Dmolpromise = loadScriptAsync('https://3dmol.csb.pitt.edu/build/3Dmol.js');\n}\n\nvar viewer_1582835025472524 = null;\nvar warn = document.getElementById(\"3dmolwarning_1582835025472524\");\nif(warn) {\n    warn.parentNode.removeChild(warn);\n}\n$3Dmolpromise.then(function() {\nviewer_1582835025472524 = $3Dmol.createViewer($(\"#3dmolviewer_1582835025472524\"),{backgroundColor:\"white\"});\n\tviewer_1582835025472524.addModel(\"\\n     RDKit          3D\\n\\n 12 11  0  0  0  0  0  0  0  0999 V2000\\n    0.6991    0.2905   -0.2351 Cl  0  0  0  0  0  0  0  0  0  0  0  0\\n   -0.4780   -3.8802    2.4887 Cl  0  0  0  0  0  0  0  0  0  0  0  0\\n    1.4602   -1.9312    1.8142 O   0  0  0  0  0  0  0  0  0  0  0  0\\n   -1.4824    0.2743    1.3264 N   0  0  0  0  0  0  0  0  0  0  0  0\\n   -0.0692   -0.0423    1.3362 C   0  0  1  0  0  0  0  0  0  0  0  0\\n    0.1731   -1.4364    1.7347 C   0  0  0  0  0  0  0  0  0  0  0  0\\n   -0.8414   -2.2323    2.0219 C   0  0  0  0  0  0  0  0  0  0  0  0\\n    0.4024    0.6545    2.0668 H   0  0  0  0  0  0  0  0  0  0  0  0\\n   -1.6977    1.2107    1.6809 H   0  0  0  0  0  0  0  0  0  0  0  0\\n   -1.9119    0.0080    0.4365 H   0  0  0  0  0  0  0  0  0  0  0  0\\n   -1.8828   -1.8717    1.9696 H   0  0  0  0  0  0  0  0  0  0  0  0\\n    2.2562   -1.3429    1.5996 H   0  0  0  0  0  0  0  0  0  0  0  0\\n  1  5  1  0\\n  2  7  1  0\\n  3  6  1  0\\n  3 12  1  0\\n  4  5  1  0\\n  4  9  1  0\\n  4 10  1  0\\n  5  6  1  0\\n  5  8  1  1\\n  6  7  2  0\\n  7 11  1  0\\nM  END\\n\",\"sdf\");\n\tviewer_1582835025472524.setStyle({\"stick\": {}});\n\tviewer_1582835025472524.setBackgroundColor(\"0xeeeeee\");\n\tviewer_1582835025472524.zoomTo();\nviewer_1582835025472524.render();\n});\n</script>",
      "text/html": [
       "<div id=\"3dmolviewer_1582835025472524\"  style=\"position: relative; width: 600px; height: 600px\">\n",
       "        <p id=\"3dmolwarning_1582835025472524\" style=\"background-color:#ffcccc;color:black\">You appear to be running in JupyterLab (or JavaScript failed to load for some other reason).  You need to install the 3dmol extension: <br>\n",
       "        <tt>jupyter labextension install jupyterlab_3dmol</tt></p>\n",
       "        </div>\n",
       "<script>\n",
       "\n",
       "var loadScriptAsync = function(uri){\n",
       "  return new Promise((resolve, reject) => {\n",
       "    var tag = document.createElement('script');\n",
       "    tag.src = uri;\n",
       "    tag.async = true;\n",
       "    tag.onload = () => {\n",
       "      resolve();\n",
       "    };\n",
       "  var firstScriptTag = document.getElementsByTagName('script')[0];\n",
       "  firstScriptTag.parentNode.insertBefore(tag, firstScriptTag);\n",
       "});\n",
       "};\n",
       "\n",
       "if(typeof $3Dmolpromise === 'undefined') {\n",
       "$3Dmolpromise = null;\n",
       "  $3Dmolpromise = loadScriptAsync('https://3dmol.csb.pitt.edu/build/3Dmol.js');\n",
       "}\n",
       "\n",
       "var viewer_1582835025472524 = null;\n",
       "var warn = document.getElementById(\"3dmolwarning_1582835025472524\");\n",
       "if(warn) {\n",
       "    warn.parentNode.removeChild(warn);\n",
       "}\n",
       "$3Dmolpromise.then(function() {\n",
       "viewer_1582835025472524 = $3Dmol.createViewer($(\"#3dmolviewer_1582835025472524\"),{backgroundColor:\"white\"});\n",
       "\tviewer_1582835025472524.addModel(\"\\n     RDKit          3D\\n\\n 12 11  0  0  0  0  0  0  0  0999 V2000\\n    0.6991    0.2905   -0.2351 Cl  0  0  0  0  0  0  0  0  0  0  0  0\\n   -0.4780   -3.8802    2.4887 Cl  0  0  0  0  0  0  0  0  0  0  0  0\\n    1.4602   -1.9312    1.8142 O   0  0  0  0  0  0  0  0  0  0  0  0\\n   -1.4824    0.2743    1.3264 N   0  0  0  0  0  0  0  0  0  0  0  0\\n   -0.0692   -0.0423    1.3362 C   0  0  1  0  0  0  0  0  0  0  0  0\\n    0.1731   -1.4364    1.7347 C   0  0  0  0  0  0  0  0  0  0  0  0\\n   -0.8414   -2.2323    2.0219 C   0  0  0  0  0  0  0  0  0  0  0  0\\n    0.4024    0.6545    2.0668 H   0  0  0  0  0  0  0  0  0  0  0  0\\n   -1.6977    1.2107    1.6809 H   0  0  0  0  0  0  0  0  0  0  0  0\\n   -1.9119    0.0080    0.4365 H   0  0  0  0  0  0  0  0  0  0  0  0\\n   -1.8828   -1.8717    1.9696 H   0  0  0  0  0  0  0  0  0  0  0  0\\n    2.2562   -1.3429    1.5996 H   0  0  0  0  0  0  0  0  0  0  0  0\\n  1  5  1  0\\n  2  7  1  0\\n  3  6  1  0\\n  3 12  1  0\\n  4  5  1  0\\n  4  9  1  0\\n  4 10  1  0\\n  5  6  1  0\\n  5  8  1  1\\n  6  7  2  0\\n  7 11  1  0\\nM  END\\n\",\"sdf\");\n",
       "\tviewer_1582835025472524.setStyle({\"stick\": {}});\n",
       "\tviewer_1582835025472524.setBackgroundColor(\"0xeeeeee\");\n",
       "\tviewer_1582835025472524.zoomTo();\n",
       "viewer_1582835025472524.render();\n",
       "});\n",
       "</script>"
      ]
     },
     "metadata": {},
     "output_type": "display_data"
    }
   ],
   "source": [
    "conformer.set_chirality(chiral_center_index=0, stero=\"r\")\n",
    "conformer.view()"
   ]
  },
  {
   "cell_type": "markdown",
   "metadata": {},
   "source": [
    "## AND all of these features can be extended to `TS` objects as well "
   ]
  },
  {
   "cell_type": "markdown",
   "metadata": {},
   "source": [
    "# Now, let's look at how to generate ensembles of conformers for `Species` and `Reactions` using AutoTST\n",
    "\n",
    "Both `Species` and `Reaction` objects have a built-in method called `generate_conformers` and this method takes one argument of an ASE calculator object. This method will then generate all possible combinations of dihedrals, CisTrans bonds, and chiral centers to identify every possible conformer. All of these conformers are then optimized using ASE's BFGS optimizer and the calculator that a user provides. From this, a list of conformers within 1 kcal/mol are generated and added to the `Species.conformers` or the `Reaction.ts` dict. Below are a few examples."
   ]
  },
  {
   "cell_type": "code",
   "execution_count": 13,
   "metadata": {},
   "outputs": [
    {
     "name": "stderr",
     "output_type": "stream",
     "text": [
      "systematic.py:272 systematic_search INFO There are 3 possible conformers to investigate...\n",
      "systematic.py:388 systematic_search INFO We have identified 1 unique, low-energy conformers for <Conformer \"CCCC\">\n"
     ]
    },
    {
     "data": {
      "text/plain": [
       "{'CCCC': [<Conformer \"CCCC\">]}"
      ]
     },
     "execution_count": 13,
     "metadata": {},
     "output_type": "execute_result"
    }
   ],
   "source": [
    "from ase.calculators.emt import EMT\n",
    "species = Species([\"CCCC\"])\n",
    "species.generate_conformers(EMT())\n",
    "species.conformers"
   ]
  },
  {
   "cell_type": "code",
   "execution_count": 14,
   "metadata": {},
   "outputs": [
    {
     "name": "stderr",
     "output_type": "stream",
     "text": [
      "reaction.py:321 get_labeled_reaction INFO Trying to match reacction to <ReactionFamily \"H_Abstraction\">\n",
      "reaction.py:349 get_labeled_reaction INFO Matched reaction to H_Abstraction family\n",
      "reaction.py:321 get_labeled_reaction INFO Trying to match reacction to <ReactionFamily \"R_Addition_MultipleBond\">\n",
      "reaction.py:321 get_labeled_reaction INFO Trying to match reacction to <ReactionFamily \"intra_H_migration\">\n",
      "reaction.py:332 get_labeled_reaction ERROR Couldn't match <Molecule \"C\"> + <Molecule \"[O]O\"> <=> <Molecule \"[CH3]\"> + <Molecule \"OO\"> to intra_H_migration, trying different combination...\n",
      "reaction.py:321 get_labeled_reaction INFO Trying to match reacction to <ReactionFamily \"H_Abstraction\">\n",
      "reaction.py:349 get_labeled_reaction INFO Matched reaction to H_Abstraction family\n",
      "reaction.py:321 get_labeled_reaction INFO Trying to match reacction to <ReactionFamily \"R_Addition_MultipleBond\">\n",
      "reaction.py:321 get_labeled_reaction INFO Trying to match reacction to <ReactionFamily \"intra_H_migration\">\n",
      "reaction.py:332 get_labeled_reaction ERROR Couldn't match <Molecule \"C\"> + <Molecule \"[O]O\"> <=> <Molecule \"[CH3]\"> + <Molecule \"OO\"> to intra_H_migration, trying different combination...\n",
      "reaction.py:247 generate_distance_data INFO Distance between *1 and *3 is too small, setting it to lower bound of uncertainty\n",
      "reaction.py:252 generate_distance_data INFO The distance data is as follows: DistanceData(distances={'d12': 1.415393,'d13': 2.434963,'d23': 1.127452,}, uncertainties={'d12': 0.368199,'d13': 0.209098,'d23': 0.288777,}, comment='Matched node C_methane ([<Entry index=43 label=\"C_methane\">, <Entry index=103 label=\"CsjCH2\">])\\nMatched node OjO ([<Entry index=126 label=\"C/H2/Cd/Cd\">, <Entry index=32 label=\"OjO\">])\\n')\n",
      "reaction.py:694 get_rdkit_mol INFO Initially embedded molecule\n",
      "reaction.py:699 get_rdkit_mol INFO Getting bounds matrix\n",
      "reaction.py:703 get_rdkit_mol INFO Editing bounds matrix\n",
      "reaction.py:734 set_limits INFO For atoms 2 and 3 we have a distance of: \t 1.4153930000000001\n",
      "reaction.py:734 set_limits INFO For atoms 3 and 1 we have a distance of: \t 1.127452\n",
      "reaction.py:734 set_limits INFO For atoms 2 and 1 we have a distance of: \t 2.4349629999999998\n",
      "reaction.py:769 bm_pre_edit INFO Changing lower limit 2.75 to 2.363452\n",
      "reaction.py:706 get_rdkit_mol INFO Performing triangle smoothing on bounds matrix.\n",
      "reaction.py:709 get_rdkit_mol INFO Now attempting to embed using edited bounds matrix.\n",
      "systematic.py:272 systematic_search INFO There are 27 possible conformers to investigate...\n",
      "systematic.py:388 systematic_search INFO We have identified 2 unique, low-energy conformers for <TS \"C.[O]O\">\n",
      "reaction.py:694 get_rdkit_mol INFO Initially embedded molecule\n",
      "reaction.py:699 get_rdkit_mol INFO Getting bounds matrix\n",
      "reaction.py:703 get_rdkit_mol INFO Editing bounds matrix\n",
      "reaction.py:734 set_limits INFO For atoms 1 and 7 we have a distance of: \t 1.4153930000000001\n",
      "reaction.py:734 set_limits INFO For atoms 7 and 2 we have a distance of: \t 1.127452\n",
      "reaction.py:734 set_limits INFO For atoms 1 and 2 we have a distance of: \t 2.4349629999999998\n",
      "reaction.py:769 bm_pre_edit INFO Changing lower limit 3.25 to 2.970195137346972\n",
      "reaction.py:769 bm_pre_edit INFO Changing lower limit 2.4 to 2.156852794877744\n",
      "reaction.py:769 bm_pre_edit INFO Changing lower limit 2.4 to 2.156852794877744\n",
      "reaction.py:769 bm_pre_edit INFO Changing lower limit 2.4 to 2.156852794877744\n",
      "reaction.py:706 get_rdkit_mol INFO Performing triangle smoothing on bounds matrix.\n",
      "reaction.py:709 get_rdkit_mol INFO Now attempting to embed using edited bounds matrix.\n",
      "systematic.py:272 systematic_search INFO There are 27 possible conformers to investigate...\n",
      "systematic.py:388 systematic_search INFO We have identified 2 unique, low-energy conformers for <TS \"OO.[CH3]\">\n"
     ]
    },
    {
     "data": {
      "text/plain": [
       "{'forward': [<TS \"C.[O]O\">, <TS \"C.[O]O\">],\n",
       " 'reverse': [<TS \"OO.[CH3]\">, <TS \"OO.[CH3]\">]}"
      ]
     },
     "execution_count": 14,
     "metadata": {},
     "output_type": "execute_result"
    }
   ],
   "source": [
    "reaction = Reaction(\"C+[O]O_[CH3]+OO\")\n",
    "reaction.generate_conformers(EMT())\n",
    "reaction.ts"
   ]
  },
  {
   "cell_type": "markdown",
   "metadata": {},
   "source": [
    "For right now, we're going to be looking at the first conformers for the `Species` and `Reaction` listed above."
   ]
  },
  {
   "cell_type": "code",
   "execution_count": 15,
   "metadata": {},
   "outputs": [],
   "source": [
    "ts = reaction.ts[\"forward\"][0]\n",
    "conformer = species.conformers[\"CCCC\"][0]"
   ]
  },
  {
   "cell_type": "markdown",
   "metadata": {},
   "source": [
    "# Now, to look at writing input files for `Conformer` and `TS` objects\n",
    "\n",
    "This is realitively easy, you just need to use the `Gaussian` calculator object to do all of this. This starts with an initialzation of the object followed by calling it's methods on different objects to get ASE calculator objects that can write your geometries.\n",
    "\n",
    "The main methods of the `Gaussian` calculator are:\n",
    "- For species conformers \n",
    "    - `get_conformer_calc`\n",
    "- For transition states\n",
    "    - `get_shell_calc`\n",
    "    - `get_center_calc`\n",
    "    - `get_overall_calc`\n",
    "    - `get_irc_calc`\n",
    "- For both\n",
    "    - `get_rotor_calc`"
   ]
  },
  {
   "cell_type": "code",
   "execution_count": 16,
   "metadata": {},
   "outputs": [],
   "source": [
    "gaussian = Gaussian()"
   ]
  },
  {
   "cell_type": "markdown",
   "metadata": {},
   "source": [
    "For `Conformer` objects"
   ]
  },
  {
   "cell_type": "code",
   "execution_count": 17,
   "metadata": {},
   "outputs": [
    {
     "name": "stdout",
     "output_type": "stream",
     "text": [
      "Sorry, it seems that you're running on a system without Gaussian...\n",
      "The rest of the gaussian tutorial may not work...\n"
     ]
    }
   ],
   "source": [
    "gaussian.conformer = conformer\n",
    "try:\n",
    "    calc = gaussian.get_conformer_calc()\n",
    "    calc.write_input(conformer.ase_molecule)\n",
    "    f = open(calc.label + \".com\", \"r\")\n",
    "    print(calc.label)\n",
    "    print(\"\")\n",
    "    for line in f.readlines():\n",
    "        print(line[:-1])\n",
    "except:\n",
    "    print(\"Sorry, it seems that you're running on a system without Gaussian...\")\n",
    "    print(\"The rest of the gaussian tutorial may not work...\")"
   ]
  },
  {
   "cell_type": "markdown",
   "metadata": {},
   "source": [
    "For `TS` objects"
   ]
  },
  {
   "cell_type": "code",
   "execution_count": 18,
   "metadata": {},
   "outputs": [
    {
     "name": "stdout",
     "output_type": "stream",
     "text": [
      "Sorry, it seems that you're running on a system without Gaussian...\n",
      "The rest of the gaussian tutorial may not work...\n"
     ]
    }
   ],
   "source": [
    "gaussian.conformer = ts\n",
    "try:\n",
    "    calc = gaussian.get_shell_calc()\n",
    "    calc.write_input(ts.ase_molecule)\n",
    "    f = open(calc.label + \".com\", \"r\")\n",
    "    print(calc.label)\n",
    "    print(\"\")\n",
    "    for line in f.readlines():\n",
    "        print(line[:-1])\n",
    "except:\n",
    "    print(\"Sorry, it seems that you're running on a system without Gaussian...\")\n",
    "    print(\"The rest of the gaussian tutorial may not work...\")"
   ]
  },
  {
   "cell_type": "code",
   "execution_count": 19,
   "metadata": {},
   "outputs": [
    {
     "name": "stdout",
     "output_type": "stream",
     "text": [
      "Sorry, it seems that you're running on a system without Gaussian...\n",
      "The rest of the gaussian tutorial may not work...\n"
     ]
    }
   ],
   "source": [
    "try:\n",
    "    calc = gaussian.get_overall_calc()\n",
    "    calc.write_input(ts.ase_molecule)\n",
    "    f = open(calc.label + \".com\", \"r\")\n",
    "    print(calc.label)\n",
    "    print(\"\")\n",
    "    for line in f.readlines():\n",
    "        print(line[:-1])\n",
    "except:\n",
    "    print(\"Sorry, it seems that you're running on a system without Gaussian...\")\n",
    "    print(\"The rest of the gaussian tutorial may not work...\")"
   ]
  },
  {
   "cell_type": "code",
   "execution_count": 20,
   "metadata": {},
   "outputs": [
    {
     "name": "stdout",
     "output_type": "stream",
     "text": [
      "Sorry, it seems that you're running on a system without Gaussian...\n",
      "The rest of the gaussian tutorial may not work...\n"
     ]
    }
   ],
   "source": [
    "try:\n",
    "    calc = gaussian.get_irc_calc()\n",
    "    calc.write_input(ts.ase_molecule)\n",
    "    f = open(calc.label + \".com\", \"r\")\n",
    "    print(calc.label)\n",
    "    print(\"\")\n",
    "    for line in f.readlines():\n",
    "        print(line[:-1])\n",
    "except:\n",
    "    print(\"Sorry, it seems that you're running on a system without Gaussian...\")\n",
    "    print(\"The rest of the gaussian tutorial may not work...\")"
   ]
  },
  {
   "cell_type": "markdown",
   "metadata": {},
   "source": [
    "For hindered rotor calculations"
   ]
  },
  {
   "cell_type": "code",
   "execution_count": 21,
   "metadata": {},
   "outputs": [
    {
     "name": "stdout",
     "output_type": "stream",
     "text": [
      "Sorry, it seems that you're running on a system without Gaussian...\n",
      "The rest of the gaussian tutorial may not work...\n"
     ]
    }
   ],
   "source": [
    "torsion = conformer.torsions[0]\n",
    "gaussian.conformer = conformer\n",
    "try:\n",
    "    calc = gaussian.get_rotor_calc(torsion_index=torsion.index)\n",
    "    calc.write_input(conformer.ase_molecule)\n",
    "    f = open(calc.label + \".com\", \"r\")\n",
    "    print(calc.label)\n",
    "    print(\"\")\n",
    "    for line in f.readlines():\n",
    "        print(line[:-1])\n",
    "except:\n",
    "    print(\"Sorry, it seems that you're running on a system without Gaussian...\")\n",
    "    print(\"The rest of the gaussian tutorial may not work...\")"
   ]
  },
  {
   "cell_type": "code",
   "execution_count": 22,
   "metadata": {},
   "outputs": [
    {
     "name": "stdout",
     "output_type": "stream",
     "text": [
      "Sorry, it seems that you're running on a system without Gaussian...\n",
      "The rest of the gaussian tutorial may not work...\n"
     ]
    }
   ],
   "source": [
    "torsion = ts.torsions[0]\n",
    "gaussian.conformer = ts\n",
    "try:\n",
    "    calc = gaussian.get_rotor_calc(torsion_index=torsion.index)\n",
    "    calc.write_input(ts.ase_molecule)\n",
    "    f = open(calc.label + \".com\", \"r\")\n",
    "    print(calc.label)\n",
    "    print(\"\")\n",
    "    for line in f.readlines():\n",
    "        print(line[:-1])\n",
    "except:\n",
    "    print(\"Sorry, it seems that you're running on a system without Gaussian...\")\n",
    "    print(\"The rest of the gaussian tutorial may not work...\")"
   ]
  },
  {
   "cell_type": "markdown",
   "metadata": {},
   "source": [
    "At this point, you now have a way to have input files for quantum chemistry optimizations to be automatically written for you. And you can have all of these run automatically using the AutoTST `Job` class"
   ]
  }
 ],
 "metadata": {
  "kernelspec": {
   "display_name": "Python 3",
   "language": "python",
   "name": "python3"
  },
  "language_info": {
   "codemirror_mode": {
    "name": "ipython",
    "version": 3
   },
   "file_extension": ".py",
   "mimetype": "text/x-python",
   "name": "python",
   "nbconvert_exporter": "python",
   "pygments_lexer": "ipython3",
   "version": "3.7.5"
  }
 },
 "nbformat": 4,
 "nbformat_minor": 2
}
